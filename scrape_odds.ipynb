{
 "cells": [
  {
   "cell_type": "code",
   "execution_count": 12,
   "metadata": {},
   "outputs": [],
   "source": [
    "import numpy as np\n",
    "import pandas as pd\n",
    "import requests\n",
    "from bs4 import BeautifulSoup, Comment\n",
    "import pytz\n",
    "import time\n",
    "import statistics\n",
    "import tqdm\n",
    "import warnings"
   ]
  },
  {
   "cell_type": "code",
   "execution_count": 15,
   "metadata": {},
   "outputs": [],
   "source": [
    "def scrape_odds(start_date, end_date):\n",
    "    '''\n",
    "    Scrapes odds from donbest.com between the two dates\n",
    "    '''\n",
    "    dates = pd.date_range(start=start_date, end=end_date, tz=\"US/Eastern\")\n",
    "    dates = dates[(dates.month >= 3) & (dates.month <= 11)]\n",
    "    \n",
    "    odds = []\n",
    "    for date in tqdm.tqdm_notebook(dates):\n",
    "        time.sleep(np.random.uniform(0.0, 0.1))\n",
    "        html = requests.get(\"http://www.donbest.com/mlb/odds/totals/\" + date.strftime(\"%Y%m%d\") + \".html\")\n",
    "        if html.status_code == 200:\n",
    "            try:\n",
    "                soup = BeautifulSoup(html.content, 'html.parser')\n",
    "                rows = soup.find_all(\"tr\", {\"class\" : \"statistics_table_row\"})\n",
    "                alt_rows = soup.find_all(\"tr\", {\"class\" : \"statistics_table_alternateRow\"})\n",
    "                for i in range(len(rows)):\n",
    "                    try:\n",
    "                        # Get the team names\n",
    "                        teams = rows[i].find(\"td\", {\"class\" : \"alignLeft\"}).find(\"a\").find_all(\"span\")\n",
    "                        away_team = teams[0].text\n",
    "                        home_team = teams[1].text\n",
    "                        # Get the start time\n",
    "                        start_time = rows[i].find_all(\"td\", {\"class\" : \"alignCenter\"})[0].find(\"div\").text\n",
    "                        start_datetime = pd.to_datetime(date.strftime(\"%Y-%m-%d\") + \"T\" + start_time).replace(tzinfo = pytz.timezone(\"US/Eastern\"))\n",
    "                        # Get scores\n",
    "                        scores = rows[i].find_all(\"td\", {\"class\" : \"alignCenter\"})[1]\n",
    "                        away_score = scores.find(\"div\").find(\"b\").text\n",
    "                        home_score = scores.find_all(\"div\")[1].find(\"b\").text\n",
    "                        # List to hold the run total lines for each sportsbook\n",
    "                        totals = []\n",
    "                        books = rows[i].find_all(\"td\", {\"class\" : \"alignRight bookColumn\"})\n",
    "                        for j in range(len(books)):\n",
    "                            try:\n",
    "                                total = float(books[j].find_all(\"div\", {\"class\" : \"oddsAlignMiddleOne\"})[0].text)\n",
    "                                if ((total > 0) & (total < 25)):\n",
    "                                    totals.append(total)\n",
    "                                # If wanted, we can also add the shades at some point...\n",
    "                            except:\n",
    "                                pass\n",
    "\n",
    "                        # Use the median of all lines as the over/under\n",
    "                        over_under = statistics.median(totals)\n",
    "                        # Append to odds[]\n",
    "                        odds.append([away_team,\n",
    "                            home_team,\n",
    "                            start_datetime,\n",
    "                            away_score,\n",
    "                            home_score,\n",
    "                            over_under])\n",
    "                    except:\n",
    "                        pass\n",
    "                # Repeat for \"alternateRows\"\n",
    "                for i in range(len(alt_rows)):\n",
    "                    try:\n",
    "                        # Get the team names\n",
    "                        teams = alt_rows[i].find(\"td\", {\"class\" : \"alignLeft\"}).find(\"a\").find_all(\"span\")\n",
    "                        away_team = teams[0].text\n",
    "                        home_team = teams[1].text\n",
    "                        # Get the start time\n",
    "                        start_time = alt_rows[i].find_all(\"td\", {\"class\" : \"alignCenter\"})[0].find(\"div\").text\n",
    "                        start_datetime = pd.to_datetime(date.strftime(\"%Y-%m-%d\") + \"T\" + start_time).replace(tzinfo = pytz.timezone(\"US/Eastern\"))\n",
    "                        # Get scores\n",
    "                        scores = alt_rows[i].find_all(\"td\", {\"class\" : \"alignCenter\"})[1]\n",
    "                        away_score = scores.find(\"div\").find(\"b\").text\n",
    "                        home_score = scores.find_all(\"div\")[1].find(\"b\").text\n",
    "                        # List to hold the run total lines for each sportsbook\n",
    "                        totals = []\n",
    "                        books = alt_rows[i].find_all(\"td\", {\"class\" : \"alignRight bookColumn\"})\n",
    "                        for j in range(len(books)):\n",
    "                            try:\n",
    "                                total = float(books[j].find_all(\"div\", {\"class\" : \"oddsAlignMiddleOne\"})[0].text)\n",
    "                                if ((total > 0) & (total < 25)):\n",
    "                                    totals.append(total)\n",
    "                                # If wanted, we can also add the shades at some point...\n",
    "                            except:\n",
    "                                pass\n",
    "                        # Use the median of all lines as the over/under\n",
    "                        over_under = statistics.median(totals)\n",
    "                        # Append to odds[]\n",
    "                        odds.append([away_team,\n",
    "                            home_team,\n",
    "                            start_datetime,\n",
    "                            away_score,\n",
    "                            home_score,\n",
    "                            over_under])\n",
    "                    except:\n",
    "                        pass\n",
    "            except:\n",
    "                pass\n",
    "        else:\n",
    "            # Why aren't these showing?\n",
    "            # sys.stderr(\"Page cannot be loaded. Are you sure there were games on this date: \"+date.strftime(\"%Y-%m-%d\")+\"?\")\n",
    "            # warnings.warn(message=(\"Page cannot be loaded. Are you sure there were games on this date:\" + date.strftime(\"%Y-%m-%d\")+\"?\"),RuntimeWarning)\n",
    "            pass\n",
    "        \n",
    "    return pd.DataFrame(odds, columns = [\"away\", \"home\", \"start_dt\", \"away_score\", \"home_score\", \"over_under\"])\n"
   ]
  },
  {
   "cell_type": "code",
   "execution_count": 3,
   "metadata": {},
   "outputs": [
    {
     "data": {
      "application/vnd.jupyter.widget-view+json": {
       "model_id": "e6fa5e3e78884e2ab0ca3d65dff0775f",
       "version_major": 2,
       "version_minor": 0
      },
      "text/plain": [
       "HBox(children=(IntProgress(value=0, max=274), HTML(value='')))"
      ]
     },
     "metadata": {},
     "output_type": "display_data"
    },
    {
     "name": "stdout",
     "output_type": "stream",
     "text": [
      "\n"
     ]
    }
   ],
   "source": [
    "odds_13 = scrape_odds(\"2013-03-01\", \"2013-11-29\")"
   ]
  },
  {
   "cell_type": "code",
   "execution_count": 4,
   "metadata": {},
   "outputs": [
    {
     "data": {
      "application/vnd.jupyter.widget-view+json": {
       "model_id": "1561e2e477784a369fc5005b96a346c1",
       "version_major": 2,
       "version_minor": 0
      },
      "text/plain": [
       "HBox(children=(IntProgress(value=0, max=274), HTML(value='')))"
      ]
     },
     "metadata": {},
     "output_type": "display_data"
    },
    {
     "name": "stdout",
     "output_type": "stream",
     "text": [
      "\n"
     ]
    }
   ],
   "source": [
    "odds_14 = scrape_odds(\"2014-03-01\", \"2014-11-29\")"
   ]
  },
  {
   "cell_type": "code",
   "execution_count": 5,
   "metadata": {},
   "outputs": [
    {
     "data": {
      "application/vnd.jupyter.widget-view+json": {
       "model_id": "1b35fe5c96644ac4a9e9c6bd17ff141c",
       "version_major": 2,
       "version_minor": 0
      },
      "text/plain": [
       "HBox(children=(IntProgress(value=0, max=274), HTML(value='')))"
      ]
     },
     "metadata": {},
     "output_type": "display_data"
    },
    {
     "name": "stdout",
     "output_type": "stream",
     "text": [
      "\n"
     ]
    }
   ],
   "source": [
    "odds_15 = scrape_odds(\"2015-03-01\", \"2015-11-29\")"
   ]
  },
  {
   "cell_type": "code",
   "execution_count": 6,
   "metadata": {},
   "outputs": [
    {
     "data": {
      "application/vnd.jupyter.widget-view+json": {
       "model_id": "81cb22e8c5934ad3a579bdf457c3e16e",
       "version_major": 2,
       "version_minor": 0
      },
      "text/plain": [
       "HBox(children=(IntProgress(value=0, max=274), HTML(value='')))"
      ]
     },
     "metadata": {},
     "output_type": "display_data"
    },
    {
     "name": "stdout",
     "output_type": "stream",
     "text": [
      "\n"
     ]
    }
   ],
   "source": [
    "odds_16 = scrape_odds(\"2016-03-01\", \"2016-11-29\")"
   ]
  },
  {
   "cell_type": "code",
   "execution_count": 9,
   "metadata": {
    "scrolled": true
   },
   "outputs": [
    {
     "data": {
      "application/vnd.jupyter.widget-view+json": {
       "model_id": "a6a3f33d5b5946469efd3fc078512738",
       "version_major": 2,
       "version_minor": 0
      },
      "text/plain": [
       "HBox(children=(IntProgress(value=0, max=274), HTML(value='')))"
      ]
     },
     "metadata": {},
     "output_type": "display_data"
    }
   ],
   "source": [
    "odds_17 = scrape_odds(\"2017-03-01\", \"2017-11-29\")"
   ]
  },
  {
   "cell_type": "code",
   "execution_count": 11,
   "metadata": {},
   "outputs": [],
   "source": [
    "odds_df = pd.concat([odds_13,\n",
    "                    odds_14,\n",
    "                    odds_15,\n",
    "                    odds_16,\n",
    "                    odds_17])\n",
    "odds_df.to_csv(\"input/odds.csv\", index=False)"
   ]
  }
 ],
 "metadata": {
  "file_extension": ".py",
  "kernelspec": {
   "display_name": "Python 3",
   "language": "python",
   "name": "python3"
  },
  "language_info": {
   "codemirror_mode": {
    "name": "ipython",
    "version": 3
   },
   "file_extension": ".py",
   "mimetype": "text/x-python",
   "name": "python",
   "nbconvert_exporter": "python",
   "pygments_lexer": "ipython3",
   "version": "3.7.3"
  },
  "mimetype": "text/x-python",
  "name": "python",
  "npconvert_exporter": "python",
  "pygments_lexer": "ipython3",
  "version": 3
 },
 "nbformat": 4,
 "nbformat_minor": 2
}
