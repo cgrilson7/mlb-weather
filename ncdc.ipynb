{
  "nbformat": 4,
  "nbformat_minor": 0,
  "metadata": {
    "language_info": {
      "name": "python",
      "codemirror_mode": {
        "name": "ipython",
        "version": 3
      },
      "version": "3.8.1-final"
    },
    "orig_nbformat": 2,
    "file_extension": ".py",
    "mimetype": "text/x-python",
    "name": "python",
    "npconvert_exporter": "python",
    "pygments_lexer": "ipython3",
    "version": 3,
    "kernelspec": {
      "name": "python38164bitenvvenv66f76e88faa04dd3b19569ca85894aaf",
      "display_name": "Python 3.8.1 64-bit ('env': venv)"
    },
    "colab": {
      "name": "ncdc.ipynb",
      "provenance": []
    }
  },
  "cells": [
    {
      "cell_type": "code",
      "metadata": {
        "id": "ttYld3aEbO36",
        "colab_type": "code",
        "colab": {}
      },
      "source": [
        "[![Open In Colab](https://colab.research.google.com/assets/colab-badge.svg)](https://colab.research.google.com/github/cgrilson7/mlb-weather/blob/master/ncdc.ipynb)"
      ],
      "execution_count": 0,
      "outputs": []
    },
    {
      "cell_type": "code",
      "metadata": {
        "id": "VjOHtYnQbO4B",
        "colab_type": "code",
        "colab": {}
      },
      "source": [
        "import requests \n",
        "import os\n",
        "import json\n",
        "from ncdc import get_endpoint, get_datasets_df"
      ],
      "execution_count": 0,
      "outputs": []
    }
  ]
}