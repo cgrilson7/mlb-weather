{
 "cells": [
  {
   "cell_type": "markdown",
   "metadata": {
    "colab_type": "text",
    "id": "_PKvj2loYkNl"
   },
   "source": [
    "[![Open In Colab](https://colab.research.google.com/assets/colab-badge.svg)](https://colab.research.google.com/github/cgrilson7/mlb-weather/blob/master/scrape_odds.ipynb)"
   ]
  },
  {
   "cell_type": "code",
   "execution_count": 1,
   "metadata": {
    "colab": {},
    "colab_type": "code",
    "id": "iDTeGRf7WeWr"
   },
   "outputs": [],
   "source": [
    "import numpy as np\n",
    "import pandas as pd\n",
    "import requests\n",
    "from bs4 import BeautifulSoup, Comment\n",
    "import pytz\n",
    "import time\n",
    "import statistics\n",
    "import tqdm\n",
    "import warnings"
   ]
  },
  {
   "cell_type": "code",
   "execution_count": 2,
   "metadata": {
    "colab": {},
    "colab_type": "code",
    "id": "EGGi3S4MWeWx"
   },
   "outputs": [],
   "source": [
    "def scrape_odds(start_date, end_date):\n",
    "    '''\n",
    "    Scrapes odds from donbest.com between the two dates\n",
    "    '''\n",
    "    dates = pd.date_range(start=start_date, end=end_date, tz=\"US/Eastern\")\n",
    "    dates = dates[(dates.month >= 3) & (dates.month <= 11)]\n",
    "    \n",
    "    odds = []\n",
    "    for date in tqdm(dates):\n",
    "        time.sleep(np.random.uniform(0.0, 0.1))\n",
    "        html = requests.get(\"http://www.donbest.com/mlb/odds/totals/\" + date.strftime(\"%Y%m%d\") + \".html\")\n",
    "        if html.status_code == 200:\n",
    "            try:\n",
    "                soup = BeautifulSoup(html.content, 'html.parser')\n",
    "                rows = soup.find_all(\"tr\", {\"class\" : \"statistics_table_row\"})\n",
    "                alt_rows = soup.find_all(\"tr\", {\"class\" : \"statistics_table_alternateRow\"})\n",
    "                for i in range(len(rows)):\n",
    "                    try:\n",
    "                        # Get the team names\n",
    "                        teams = rows[i].find(\"td\", {\"class\" : \"alignLeft\"}).find(\"a\").find_all(\"span\")\n",
    "                        away_team = teams[0].text\n",
    "                        home_team = teams[1].text\n",
    "                        # Get the start time\n",
    "                        start_time = rows[i].find_all(\"td\", {\"class\" : \"alignCenter\"})[0].find(\"div\").text\n",
    "                        start_datetime = pd.to_datetime(date.strftime(\"%Y-%m-%d\") + \"T\" + start_time).replace(tzinfo = pytz.timezone(\"US/Eastern\"))\n",
    "                        # Get scores\n",
    "                        scores = rows[i].find_all(\"td\", {\"class\" : \"alignCenter\"})[1]\n",
    "                        away_score = scores.find(\"div\").find(\"b\").text\n",
    "                        home_score = scores.find_all(\"div\")[1].find(\"b\").text\n",
    "                        # List to hold the run total lines for each sportsbook\n",
    "                        totals = []\n",
    "                        books = rows[i].find_all(\"td\", {\"class\" : \"alignRight bookColumn\"})\n",
    "                        for j in range(len(books)):\n",
    "                            try:\n",
    "                                total = float(books[j].find_all(\"div\", {\"class\" : \"oddsAlignMiddleOne\"})[0].text)\n",
    "                                if ((total > 0) & (total < 25)):\n",
    "                                    totals.append(total)\n",
    "                                # If wanted, we can also add the shades at some point...\n",
    "                            except:\n",
    "                                pass\n",
    "\n",
    "                        # Use the median of all lines as the over/under\n",
    "                        over_under = statistics.median(totals)\n",
    "                        # Append to odds[]\n",
    "                        odds.append([away_team,\n",
    "                            home_team,\n",
    "                            start_datetime,\n",
    "                            away_score,\n",
    "                            home_score,\n",
    "                            over_under])\n",
    "                    except:\n",
    "                        pass\n",
    "                # Repeat for \"alternateRows\"\n",
    "                for i in range(len(alt_rows)):\n",
    "                    try:\n",
    "                        # Get the team names\n",
    "                        teams = alt_rows[i].find(\"td\", {\"class\" : \"alignLeft\"}).find(\"a\").find_all(\"span\")\n",
    "                        away_team = teams[0].text\n",
    "                        home_team = teams[1].text\n",
    "                        # Get the start time\n",
    "                        start_time = alt_rows[i].find_all(\"td\", {\"class\" : \"alignCenter\"})[0].find(\"div\").text\n",
    "                        start_datetime = pd.to_datetime(date.strftime(\"%Y-%m-%d\") + \"T\" + start_time).replace(tzinfo = pytz.timezone(\"US/Eastern\"))\n",
    "                        # Get scores\n",
    "                        scores = alt_rows[i].find_all(\"td\", {\"class\" : \"alignCenter\"})[1]\n",
    "                        away_score = scores.find(\"div\").find(\"b\").text\n",
    "                        home_score = scores.find_all(\"div\")[1].find(\"b\").text\n",
    "                        # List to hold the run total lines for each sportsbook\n",
    "                        totals = []\n",
    "                        books = alt_rows[i].find_all(\"td\", {\"class\" : \"alignRight bookColumn\"})\n",
    "                        for j in range(len(books)):\n",
    "                            try:\n",
    "                                total = float(books[j].find_all(\"div\", {\"class\" : \"oddsAlignMiddleOne\"})[0].text)\n",
    "                                if ((total > 0) & (total < 25)):\n",
    "                                    totals.append(total)\n",
    "                                # If wanted, we can also add the shades at some point...\n",
    "                            except:\n",
    "                                pass\n",
    "                        # Use the median of all lines as the over/under\n",
    "                        over_under = statistics.median(totals)\n",
    "                        # Append to odds[]\n",
    "                        odds.append([away_team,\n",
    "                            home_team,\n",
    "                            start_datetime,\n",
    "                            away_score,\n",
    "                            home_score,\n",
    "                            over_under])\n",
    "                    except:\n",
    "                        pass\n",
    "            except:\n",
    "                pass\n",
    "        else:\n",
    "            # Why aren't these showing?\n",
    "            # sys.stderr(\"Page cannot be loaded. Are you sure there were games on this date: \"+date.strftime(\"%Y-%m-%d\")+\"?\")\n",
    "            # warnings.warn(message=(\"Page cannot be loaded. Are you sure there were games on this date:\" + date.strftime(\"%Y-%m-%d\")+\"?\"),RuntimeWarning)\n",
    "            pass\n",
    "        \n",
    "    return pd.DataFrame(odds, columns = [\"away\", \"home\", \"start_dt\", \"away_score\", \"home_score\", \"over_under\"])\n"
   ]
  },
  {
   "cell_type": "code",
   "execution_count": 3,
   "metadata": {
    "colab": {
     "base_uri": "https://localhost:8080/",
     "height": 458,
     "referenced_widgets": [
      "47abc98bbf23472e821d9b745dd803ff",
      "90ddc16669254209866c426f8cd28c6e",
      "0399edb1ed8b4d89869f9b17648b0e3e",
      "bd6afaafc24c4c9b8ac4a6a09bfa5656",
      "997445710e1d4f078647f25e4378e336",
      "7ac04d5aeecc42e19e360a8b26929a0d",
      "3226b3face1b4e68ae67d8494e038912",
      "acb4704ad81141318874d115fca88dd9"
     ]
    },
    "colab_type": "code",
    "id": "Kk7CY0PYWeW1",
    "outputId": "5d3108eb-9889-4f76-9798-5850f2055162"
   },
   "outputs": [
    {
     "name": "stderr",
     "output_type": "stream",
     "text": [
      "<ipython-input-2-c4472a3b3e79>:9: TqdmDeprecationWarning: This function will be removed in tqdm==5.0.0\n",
      "Please use `tqdm.notebook.tqdm` instead of `tqdm.tqdm_notebook`\n",
      "  for date in tqdm.tqdm_notebook(dates):\n"
     ]
    },
    {
     "data": {
      "application/vnd.jupyter.widget-view+json": {
       "model_id": "ee7dae03cb65460d8fb1cd9976b33cec",
       "version_major": 2,
       "version_minor": 0
      },
      "text/plain": [
       "HBox(children=(FloatProgress(value=0.0, max=274.0), HTML(value='')))"
      ]
     },
     "metadata": {},
     "output_type": "display_data"
    },
    {
     "name": "stdout",
     "output_type": "stream",
     "text": [
      "\n"
     ]
    }
   ],
   "source": [
    "odds_13 = scrape_odds(\"2013-03-01\", \"2013-11-29\")"
   ]
  },
  {
   "cell_type": "code",
   "execution_count": 0,
   "metadata": {
    "colab": {
     "referenced_widgets": [
      "1561e2e477784a369fc5005b96a346c1"
     ]
    },
    "colab_type": "code",
    "id": "gXPNUwwxWeW6",
    "outputId": "592d4146-2328-4619-eb89-845a0d0d54db"
   },
   "outputs": [
    {
     "data": {
      "application/vnd.jupyter.widget-view+json": {
       "model_id": "1561e2e477784a369fc5005b96a346c1",
       "version_major": 2,
       "version_minor": 0
      },
      "text/plain": [
       "HBox(children=(IntProgress(value=0, max=274), HTML(value='')))"
      ]
     },
     "metadata": {
      "tags": []
     },
     "output_type": "display_data"
    },
    {
     "name": "stdout",
     "output_type": "stream",
     "text": [
      "\n"
     ]
    }
   ],
   "source": [
    "odds_14 = scrape_odds(\"2014-03-01\", \"2014-11-29\")"
   ]
  },
  {
   "cell_type": "code",
   "execution_count": 0,
   "metadata": {
    "colab": {
     "referenced_widgets": [
      "1b35fe5c96644ac4a9e9c6bd17ff141c"
     ]
    },
    "colab_type": "code",
    "id": "rfdZovFYWeXA",
    "outputId": "bc4aad44-0554-4de0-ce27-6cc02f594754"
   },
   "outputs": [
    {
     "data": {
      "application/vnd.jupyter.widget-view+json": {
       "model_id": "1b35fe5c96644ac4a9e9c6bd17ff141c",
       "version_major": 2,
       "version_minor": 0
      },
      "text/plain": [
       "HBox(children=(IntProgress(value=0, max=274), HTML(value='')))"
      ]
     },
     "metadata": {
      "tags": []
     },
     "output_type": "display_data"
    },
    {
     "name": "stdout",
     "output_type": "stream",
     "text": [
      "\n"
     ]
    }
   ],
   "source": [
    "odds_15 = scrape_odds(\"2015-03-01\", \"2015-11-29\")"
   ]
  },
  {
   "cell_type": "code",
   "execution_count": 0,
   "metadata": {
    "colab": {
     "referenced_widgets": [
      "81cb22e8c5934ad3a579bdf457c3e16e"
     ]
    },
    "colab_type": "code",
    "id": "MRpiTG2kWeXE",
    "outputId": "4d23b707-9535-4ed9-d8a0-bbb6521827ba"
   },
   "outputs": [
    {
     "data": {
      "application/vnd.jupyter.widget-view+json": {
       "model_id": "81cb22e8c5934ad3a579bdf457c3e16e",
       "version_major": 2,
       "version_minor": 0
      },
      "text/plain": [
       "HBox(children=(IntProgress(value=0, max=274), HTML(value='')))"
      ]
     },
     "metadata": {
      "tags": []
     },
     "output_type": "display_data"
    },
    {
     "name": "stdout",
     "output_type": "stream",
     "text": [
      "\n"
     ]
    }
   ],
   "source": [
    "odds_16 = scrape_odds(\"2016-03-01\", \"2016-11-29\")"
   ]
  },
  {
   "cell_type": "code",
   "execution_count": 0,
   "metadata": {
    "colab": {
     "referenced_widgets": [
      "a6a3f33d5b5946469efd3fc078512738"
     ]
    },
    "colab_type": "code",
    "id": "S_BWIHk1WeXJ",
    "outputId": "a77304b7-1020-4f49-d5ff-5c93a3a910df",
    "scrolled": true
   },
   "outputs": [
    {
     "data": {
      "application/vnd.jupyter.widget-view+json": {
       "model_id": "a6a3f33d5b5946469efd3fc078512738",
       "version_major": 2,
       "version_minor": 0
      },
      "text/plain": [
       "HBox(children=(IntProgress(value=0, max=274), HTML(value='')))"
      ]
     },
     "metadata": {
      "tags": []
     },
     "output_type": "display_data"
    }
   ],
   "source": [
    "odds_17 = scrape_odds(\"2017-03-01\", \"2017-11-29\")"
   ]
  },
  {
   "cell_type": "code",
   "execution_count": null,
   "metadata": {},
   "outputs": [],
   "source": [
    "odds_18 = scrape_odds(\"2018-03-01\", \"2018-11-29\")"
   ]
  },
  {
   "cell_type": "code",
   "execution_count": null,
   "metadata": {},
   "outputs": [],
   "source": [
    "odds_19 = scrape_odds(\"2019-03-01\", \"2019-11-29\")"
   ]
  },
  {
   "cell_type": "code",
   "execution_count": 0,
   "metadata": {
    "colab": {},
    "colab_type": "code",
    "id": "3iyn7BgOWeXO"
   },
   "outputs": [],
   "source": [
    "odds_df = pd.concat([odds_13,\n",
    "                    odds_14,\n",
    "                    odds_15,\n",
    "                    odds_16,\n",
    "                    odds_17])\n",
    "# odds_df.to_csv(\"input/odds.csv\", index=False)"
   ]
  }
 ],
 "metadata": {
  "colab": {
   "name": "scrape_odds.ipynb",
   "provenance": []
  },
  "file_extension": ".py",
  "kernelspec": {
   "display_name": "Python 3",
   "language": "python",
   "name": "python3"
  },
  "language_info": {
   "codemirror_mode": {
    "name": "ipython",
    "version": 3
   },
   "file_extension": ".py",
   "mimetype": "text/x-python",
   "name": "python",
   "nbconvert_exporter": "python",
   "pygments_lexer": "ipython3",
   "version": "3.8.1"
  },
  "mimetype": "text/x-python",
  "name": "python",
  "npconvert_exporter": "python",
  "pygments_lexer": "ipython3",
  "version": 3,
  "widgets": {
   "application/vnd.jupyter.widget-state+json": {
    "0399edb1ed8b4d89869f9b17648b0e3e": {
     "model_module": "@jupyter-widgets/controls",
     "model_name": "IntProgressModel",
     "state": {
      "_dom_classes": [],
      "_model_module": "@jupyter-widgets/controls",
      "_model_module_version": "1.5.0",
      "_model_name": "IntProgressModel",
      "_view_count": null,
      "_view_module": "@jupyter-widgets/controls",
      "_view_module_version": "1.5.0",
      "_view_name": "ProgressView",
      "bar_style": "danger",
      "description": "",
      "description_tooltip": null,
      "layout": "IPY_MODEL_7ac04d5aeecc42e19e360a8b26929a0d",
      "max": 274,
      "min": 0,
      "orientation": "horizontal",
      "style": "IPY_MODEL_997445710e1d4f078647f25e4378e336",
      "value": 108
     }
    },
    "3226b3face1b4e68ae67d8494e038912": {
     "model_module": "@jupyter-widgets/controls",
     "model_name": "DescriptionStyleModel",
     "state": {
      "_model_module": "@jupyter-widgets/controls",
      "_model_module_version": "1.5.0",
      "_model_name": "DescriptionStyleModel",
      "_view_count": null,
      "_view_module": "@jupyter-widgets/base",
      "_view_module_version": "1.2.0",
      "_view_name": "StyleView",
      "description_width": ""
     }
    },
    "47abc98bbf23472e821d9b745dd803ff": {
     "model_module": "@jupyter-widgets/controls",
     "model_name": "HBoxModel",
     "state": {
      "_dom_classes": [],
      "_model_module": "@jupyter-widgets/controls",
      "_model_module_version": "1.5.0",
      "_model_name": "HBoxModel",
      "_view_count": null,
      "_view_module": "@jupyter-widgets/controls",
      "_view_module_version": "1.5.0",
      "_view_name": "HBoxView",
      "box_style": "",
      "children": [
       "IPY_MODEL_0399edb1ed8b4d89869f9b17648b0e3e",
       "IPY_MODEL_bd6afaafc24c4c9b8ac4a6a09bfa5656"
      ],
      "layout": "IPY_MODEL_90ddc16669254209866c426f8cd28c6e"
     }
    },
    "7ac04d5aeecc42e19e360a8b26929a0d": {
     "model_module": "@jupyter-widgets/base",
     "model_name": "LayoutModel",
     "state": {
      "_model_module": "@jupyter-widgets/base",
      "_model_module_version": "1.2.0",
      "_model_name": "LayoutModel",
      "_view_count": null,
      "_view_module": "@jupyter-widgets/base",
      "_view_module_version": "1.2.0",
      "_view_name": "LayoutView",
      "align_content": null,
      "align_items": null,
      "align_self": null,
      "border": null,
      "bottom": null,
      "display": null,
      "flex": null,
      "flex_flow": null,
      "grid_area": null,
      "grid_auto_columns": null,
      "grid_auto_flow": null,
      "grid_auto_rows": null,
      "grid_column": null,
      "grid_gap": null,
      "grid_row": null,
      "grid_template_areas": null,
      "grid_template_columns": null,
      "grid_template_rows": null,
      "height": null,
      "justify_content": null,
      "justify_items": null,
      "left": null,
      "margin": null,
      "max_height": null,
      "max_width": null,
      "min_height": null,
      "min_width": null,
      "object_fit": null,
      "object_position": null,
      "order": null,
      "overflow": null,
      "overflow_x": null,
      "overflow_y": null,
      "padding": null,
      "right": null,
      "top": null,
      "visibility": null,
      "width": null
     }
    },
    "90ddc16669254209866c426f8cd28c6e": {
     "model_module": "@jupyter-widgets/base",
     "model_name": "LayoutModel",
     "state": {
      "_model_module": "@jupyter-widgets/base",
      "_model_module_version": "1.2.0",
      "_model_name": "LayoutModel",
      "_view_count": null,
      "_view_module": "@jupyter-widgets/base",
      "_view_module_version": "1.2.0",
      "_view_name": "LayoutView",
      "align_content": null,
      "align_items": null,
      "align_self": null,
      "border": null,
      "bottom": null,
      "display": null,
      "flex": null,
      "flex_flow": null,
      "grid_area": null,
      "grid_auto_columns": null,
      "grid_auto_flow": null,
      "grid_auto_rows": null,
      "grid_column": null,
      "grid_gap": null,
      "grid_row": null,
      "grid_template_areas": null,
      "grid_template_columns": null,
      "grid_template_rows": null,
      "height": null,
      "justify_content": null,
      "justify_items": null,
      "left": null,
      "margin": null,
      "max_height": null,
      "max_width": null,
      "min_height": null,
      "min_width": null,
      "object_fit": null,
      "object_position": null,
      "order": null,
      "overflow": null,
      "overflow_x": null,
      "overflow_y": null,
      "padding": null,
      "right": null,
      "top": null,
      "visibility": null,
      "width": null
     }
    },
    "997445710e1d4f078647f25e4378e336": {
     "model_module": "@jupyter-widgets/controls",
     "model_name": "ProgressStyleModel",
     "state": {
      "_model_module": "@jupyter-widgets/controls",
      "_model_module_version": "1.5.0",
      "_model_name": "ProgressStyleModel",
      "_view_count": null,
      "_view_module": "@jupyter-widgets/base",
      "_view_module_version": "1.2.0",
      "_view_name": "StyleView",
      "bar_color": null,
      "description_width": ""
     }
    },
    "acb4704ad81141318874d115fca88dd9": {
     "model_module": "@jupyter-widgets/base",
     "model_name": "LayoutModel",
     "state": {
      "_model_module": "@jupyter-widgets/base",
      "_model_module_version": "1.2.0",
      "_model_name": "LayoutModel",
      "_view_count": null,
      "_view_module": "@jupyter-widgets/base",
      "_view_module_version": "1.2.0",
      "_view_name": "LayoutView",
      "align_content": null,
      "align_items": null,
      "align_self": null,
      "border": null,
      "bottom": null,
      "display": null,
      "flex": null,
      "flex_flow": null,
      "grid_area": null,
      "grid_auto_columns": null,
      "grid_auto_flow": null,
      "grid_auto_rows": null,
      "grid_column": null,
      "grid_gap": null,
      "grid_row": null,
      "grid_template_areas": null,
      "grid_template_columns": null,
      "grid_template_rows": null,
      "height": null,
      "justify_content": null,
      "justify_items": null,
      "left": null,
      "margin": null,
      "max_height": null,
      "max_width": null,
      "min_height": null,
      "min_width": null,
      "object_fit": null,
      "object_position": null,
      "order": null,
      "overflow": null,
      "overflow_x": null,
      "overflow_y": null,
      "padding": null,
      "right": null,
      "top": null,
      "visibility": null,
      "width": null
     }
    },
    "bd6afaafc24c4c9b8ac4a6a09bfa5656": {
     "model_module": "@jupyter-widgets/controls",
     "model_name": "HTMLModel",
     "state": {
      "_dom_classes": [],
      "_model_module": "@jupyter-widgets/controls",
      "_model_module_version": "1.5.0",
      "_model_name": "HTMLModel",
      "_view_count": null,
      "_view_module": "@jupyter-widgets/controls",
      "_view_module_version": "1.5.0",
      "_view_name": "HTMLView",
      "description": "",
      "description_tooltip": null,
      "layout": "IPY_MODEL_acb4704ad81141318874d115fca88dd9",
      "placeholder": "​",
      "style": "IPY_MODEL_3226b3face1b4e68ae67d8494e038912",
      "value": " 39% 108/274 [03:25&lt;04:21,  1.57s/it]"
     }
    }
   }
  }
 },
 "nbformat": 4,
 "nbformat_minor": 1
}
