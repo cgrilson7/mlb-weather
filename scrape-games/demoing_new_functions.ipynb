{
 "cells": [
  {
   "cell_type": "code",
   "execution_count": 1,
   "metadata": {},
   "outputs": [],
   "source": [
    "import requests\n",
    "from bs4 import BeautifulSoup\n",
    "from boxscraper import get_season_soup, get_all_hrefs, get_game_soup, get_linescore, get_linescore_df, get_scorebox \n",
    "import pandas as pd\n",
    "import re"
   ]
  },
  {
   "cell_type": "code",
   "execution_count": 2,
   "metadata": {
    "scrolled": true
   },
   "outputs": [],
   "source": [
    "soup_2019 = get_season_soup(2019)"
   ]
  },
  {
   "cell_type": "code",
   "execution_count": 12,
   "metadata": {},
   "outputs": [
    {
     "data": {
      "text/plain": [
       "['/boxes/OAK/OAK201903200.shtml',\n",
       " '/boxes/OAK/OAK201903210.shtml',\n",
       " '/boxes/CIN/CIN201903280.shtml',\n",
       " '/boxes/KCA/KCA201903280.shtml',\n",
       " '/boxes/LAN/LAN201903280.shtml',\n",
       " '/boxes/MIA/MIA201903280.shtml',\n",
       " '/boxes/MIL/MIL201903280.shtml',\n",
       " '/boxes/MIN/MIN201903280.shtml',\n",
       " '/boxes/NYA/NYA201903280.shtml',\n",
       " '/boxes/OAK/OAK201903280.shtml']"
      ]
     },
     "execution_count": 12,
     "metadata": {},
     "output_type": "execute_result"
    }
   ],
   "source": [
    "game_links_2019 = get_all_hrefs(soup_2019)\n",
    "game_links_2019[:10]"
   ]
  },
  {
   "cell_type": "code",
   "execution_count": 13,
   "metadata": {},
   "outputs": [],
   "source": [
    "game_link = game_links_2019[0]"
   ]
  },
  {
   "cell_type": "code",
   "execution_count": 14,
   "metadata": {},
   "outputs": [],
   "source": [
    "game_soup = get_game_soup(game_link)"
   ]
  },
  {
   "cell_type": "code",
   "execution_count": 19,
   "metadata": {},
   "outputs": [],
   "source": [
    "linescore = get_linescore(game_soup)"
   ]
  },
  {
   "cell_type": "code",
   "execution_count": 20,
   "metadata": {
    "scrolled": true
   },
   "outputs": [
    {
     "data": {
      "text/html": [
       "<div>\n",
       "<style scoped>\n",
       "    .dataframe tbody tr th:only-of-type {\n",
       "        vertical-align: middle;\n",
       "    }\n",
       "\n",
       "    .dataframe tbody tr th {\n",
       "        vertical-align: top;\n",
       "    }\n",
       "\n",
       "    .dataframe thead th {\n",
       "        text-align: right;\n",
       "    }\n",
       "</style>\n",
       "<table border=\"1\" class=\"dataframe\">\n",
       "  <thead>\n",
       "    <tr style=\"text-align: right;\">\n",
       "      <th></th>\n",
       "      <th>Team</th>\n",
       "      <th>1</th>\n",
       "      <th>2</th>\n",
       "      <th>3</th>\n",
       "      <th>4</th>\n",
       "      <th>5</th>\n",
       "      <th>6</th>\n",
       "      <th>7</th>\n",
       "      <th>8</th>\n",
       "      <th>9</th>\n",
       "      <th>R</th>\n",
       "      <th>H</th>\n",
       "      <th>E</th>\n",
       "    </tr>\n",
       "  </thead>\n",
       "  <tbody>\n",
       "    <tr>\n",
       "      <th>0</th>\n",
       "      <td>Seattle Mariners</td>\n",
       "      <td>0</td>\n",
       "      <td>0</td>\n",
       "      <td>5</td>\n",
       "      <td>1</td>\n",
       "      <td>3</td>\n",
       "      <td>0</td>\n",
       "      <td>0</td>\n",
       "      <td>0</td>\n",
       "      <td>0</td>\n",
       "      <td>9</td>\n",
       "      <td>7</td>\n",
       "      <td>1</td>\n",
       "    </tr>\n",
       "    <tr>\n",
       "      <th>1</th>\n",
       "      <td>Oakland Athletics</td>\n",
       "      <td>1</td>\n",
       "      <td>1</td>\n",
       "      <td>2</td>\n",
       "      <td>0</td>\n",
       "      <td>0</td>\n",
       "      <td>0</td>\n",
       "      <td>3</td>\n",
       "      <td>0</td>\n",
       "      <td>0</td>\n",
       "      <td>7</td>\n",
       "      <td>9</td>\n",
       "      <td>0</td>\n",
       "    </tr>\n",
       "  </tbody>\n",
       "</table>\n",
       "</div>"
      ],
      "text/plain": [
       "                Team  1  2  3  4  5  6  7  8  9  R  H  E\n",
       "0   Seattle Mariners  0  0  5  1  3  0  0  0  0  9  7  1\n",
       "1  Oakland Athletics  1  1  2  0  0  0  3  0  0  7  9  0"
      ]
     },
     "execution_count": 20,
     "metadata": {},
     "output_type": "execute_result"
    }
   ],
   "source": [
    "df = get_linescore_df(linescore)\n",
    "df"
   ]
  },
  {
   "cell_type": "code",
   "execution_count": 20,
   "metadata": {},
   "outputs": [
    {
     "data": {
      "text/plain": [
       "<div class=\"scorebox_meta\">\n",
       "<div>Wednesday, March 20, 2019</div><div>Start Time: 5:35 p.m. ET</div><div><strong>Attendance</strong>: 45,787</div><div><strong>Venue</strong>: Tokyo Dome</div><div><strong>Game Duration</strong>: 3:24</div><div>Night Game, on turf</div><div><a href=\"https://www.mlb.com/gameday/566083#game_tab=videos\" target=\"_blank\">Video of game on MLB.com</a></div>\n",
       "<div><em>Logos <a href=\"http://www.sportslogos.net/\">via Sports Logos.net</a>\n",
       "            / <a href=\"//www.sports-reference.com/blog/2016/06/redesign-team-and-league-logos-courtesy-sportslogos-net/\">About logos</a></em></div>\n",
       "</div>"
      ]
     },
     "execution_count": 20,
     "metadata": {},
     "output_type": "execute_result"
    }
   ],
   "source": [
    "scorebox = game_soup.find('div', { 'class': 'scorebox_meta' })\n",
    "scorebox"
   ]
  },
  {
   "cell_type": "code",
   "execution_count": 21,
   "metadata": {},
   "outputs": [],
   "source": [
    "divs = scorebox.find_all('div')"
   ]
  }
 ],
 "metadata": {
  "kernelspec": {
   "display_name": "Python 3.8.1 64-bit ('env': venv)",
   "language": "python",
   "name": "python38164bitenvvenv66f76e88faa04dd3b19569ca85894aaf"
  },
  "language_info": {
   "codemirror_mode": {
    "name": "ipython",
    "version": 3
   },
   "file_extension": ".py",
   "mimetype": "text/x-python",
   "name": "python",
   "nbconvert_exporter": "python",
   "pygments_lexer": "ipython3",
   "version": "3.8.1"
  }
 },
 "nbformat": 4,
 "nbformat_minor": 2
}
