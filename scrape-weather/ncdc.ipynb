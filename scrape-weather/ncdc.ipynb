{
 "cells": [
  {
   "cell_type": "markdown",
   "metadata": {
    "colab": {},
    "colab_type": "code",
    "id": "ttYld3aEbO36"
   },
   "source": [
    "[![Open In Colab](https://colab.research.google.com/assets/colab-badge.svg)](https://colab.research.google.com/github/cgrilson7/mlb-weather/blob/master/ncdc.ipynb)"
   ]
  },
  {
   "cell_type": "code",
   "execution_count": 4,
   "metadata": {
    "colab": {},
    "colab_type": "code",
    "id": "VjOHtYnQbO4B"
   },
   "outputs": [],
   "source": [
    "import requests \n",
    "import os\n",
    "import json\n",
    "from ncdc import get_endpoint, get_datasets_df, get_data"
   ]
  },
  {
   "cell_type": "code",
   "execution_count": 5,
   "metadata": {},
   "outputs": [
    {
     "data": {
      "text/html": [
       "<div>\n",
       "<style scoped>\n",
       "    .dataframe tbody tr th:only-of-type {\n",
       "        vertical-align: middle;\n",
       "    }\n",
       "\n",
       "    .dataframe tbody tr th {\n",
       "        vertical-align: top;\n",
       "    }\n",
       "\n",
       "    .dataframe thead th {\n",
       "        text-align: right;\n",
       "    }\n",
       "</style>\n",
       "<table border=\"1\" class=\"dataframe\">\n",
       "  <thead>\n",
       "    <tr style=\"text-align: right;\">\n",
       "      <th></th>\n",
       "      <th>uid</th>\n",
       "      <th>mindate</th>\n",
       "      <th>maxdate</th>\n",
       "      <th>name</th>\n",
       "      <th>datacoverage</th>\n",
       "      <th>id</th>\n",
       "    </tr>\n",
       "  </thead>\n",
       "  <tbody>\n",
       "    <tr>\n",
       "      <th>0</th>\n",
       "      <td>gov.noaa.ncdc:C00861</td>\n",
       "      <td>1763-01-01</td>\n",
       "      <td>2020-02-08</td>\n",
       "      <td>Daily Summaries</td>\n",
       "      <td>1.00</td>\n",
       "      <td>GHCND</td>\n",
       "    </tr>\n",
       "    <tr>\n",
       "      <th>1</th>\n",
       "      <td>gov.noaa.ncdc:C00946</td>\n",
       "      <td>1763-01-01</td>\n",
       "      <td>2020-01-01</td>\n",
       "      <td>Global Summary of the Month</td>\n",
       "      <td>1.00</td>\n",
       "      <td>GSOM</td>\n",
       "    </tr>\n",
       "    <tr>\n",
       "      <th>2</th>\n",
       "      <td>gov.noaa.ncdc:C00947</td>\n",
       "      <td>1763-01-01</td>\n",
       "      <td>2019-01-01</td>\n",
       "      <td>Global Summary of the Year</td>\n",
       "      <td>1.00</td>\n",
       "      <td>GSOY</td>\n",
       "    </tr>\n",
       "    <tr>\n",
       "      <th>3</th>\n",
       "      <td>gov.noaa.ncdc:C00345</td>\n",
       "      <td>1991-06-05</td>\n",
       "      <td>2020-02-08</td>\n",
       "      <td>Weather Radar (Level II)</td>\n",
       "      <td>0.95</td>\n",
       "      <td>NEXRAD2</td>\n",
       "    </tr>\n",
       "    <tr>\n",
       "      <th>4</th>\n",
       "      <td>gov.noaa.ncdc:C00708</td>\n",
       "      <td>1994-05-20</td>\n",
       "      <td>2020-02-06</td>\n",
       "      <td>Weather Radar (Level III)</td>\n",
       "      <td>0.95</td>\n",
       "      <td>NEXRAD3</td>\n",
       "    </tr>\n",
       "    <tr>\n",
       "      <th>5</th>\n",
       "      <td>gov.noaa.ncdc:C00821</td>\n",
       "      <td>2010-01-01</td>\n",
       "      <td>2010-01-01</td>\n",
       "      <td>Normals Annual/Seasonal</td>\n",
       "      <td>1.00</td>\n",
       "      <td>NORMAL_ANN</td>\n",
       "    </tr>\n",
       "    <tr>\n",
       "      <th>6</th>\n",
       "      <td>gov.noaa.ncdc:C00823</td>\n",
       "      <td>2010-01-01</td>\n",
       "      <td>2010-12-31</td>\n",
       "      <td>Normals Daily</td>\n",
       "      <td>1.00</td>\n",
       "      <td>NORMAL_DLY</td>\n",
       "    </tr>\n",
       "    <tr>\n",
       "      <th>7</th>\n",
       "      <td>gov.noaa.ncdc:C00824</td>\n",
       "      <td>2010-01-01</td>\n",
       "      <td>2010-12-31</td>\n",
       "      <td>Normals Hourly</td>\n",
       "      <td>1.00</td>\n",
       "      <td>NORMAL_HLY</td>\n",
       "    </tr>\n",
       "    <tr>\n",
       "      <th>8</th>\n",
       "      <td>gov.noaa.ncdc:C00822</td>\n",
       "      <td>2010-01-01</td>\n",
       "      <td>2010-12-01</td>\n",
       "      <td>Normals Monthly</td>\n",
       "      <td>1.00</td>\n",
       "      <td>NORMAL_MLY</td>\n",
       "    </tr>\n",
       "    <tr>\n",
       "      <th>9</th>\n",
       "      <td>gov.noaa.ncdc:C00505</td>\n",
       "      <td>1970-05-12</td>\n",
       "      <td>2014-01-01</td>\n",
       "      <td>Precipitation 15 Minute</td>\n",
       "      <td>0.25</td>\n",
       "      <td>PRECIP_15</td>\n",
       "    </tr>\n",
       "    <tr>\n",
       "      <th>10</th>\n",
       "      <td>gov.noaa.ncdc:C00313</td>\n",
       "      <td>1900-01-01</td>\n",
       "      <td>2014-01-01</td>\n",
       "      <td>Precipitation Hourly</td>\n",
       "      <td>1.00</td>\n",
       "      <td>PRECIP_HLY</td>\n",
       "    </tr>\n",
       "  </tbody>\n",
       "</table>\n",
       "</div>"
      ],
      "text/plain": [
       "                     uid     mindate     maxdate                         name  \\\n",
       "0   gov.noaa.ncdc:C00861  1763-01-01  2020-02-08              Daily Summaries   \n",
       "1   gov.noaa.ncdc:C00946  1763-01-01  2020-01-01  Global Summary of the Month   \n",
       "2   gov.noaa.ncdc:C00947  1763-01-01  2019-01-01   Global Summary of the Year   \n",
       "3   gov.noaa.ncdc:C00345  1991-06-05  2020-02-08     Weather Radar (Level II)   \n",
       "4   gov.noaa.ncdc:C00708  1994-05-20  2020-02-06    Weather Radar (Level III)   \n",
       "5   gov.noaa.ncdc:C00821  2010-01-01  2010-01-01      Normals Annual/Seasonal   \n",
       "6   gov.noaa.ncdc:C00823  2010-01-01  2010-12-31                Normals Daily   \n",
       "7   gov.noaa.ncdc:C00824  2010-01-01  2010-12-31               Normals Hourly   \n",
       "8   gov.noaa.ncdc:C00822  2010-01-01  2010-12-01              Normals Monthly   \n",
       "9   gov.noaa.ncdc:C00505  1970-05-12  2014-01-01      Precipitation 15 Minute   \n",
       "10  gov.noaa.ncdc:C00313  1900-01-01  2014-01-01         Precipitation Hourly   \n",
       "\n",
       "    datacoverage          id  \n",
       "0           1.00       GHCND  \n",
       "1           1.00        GSOM  \n",
       "2           1.00        GSOY  \n",
       "3           0.95     NEXRAD2  \n",
       "4           0.95     NEXRAD3  \n",
       "5           1.00  NORMAL_ANN  \n",
       "6           1.00  NORMAL_DLY  \n",
       "7           1.00  NORMAL_HLY  \n",
       "8           1.00  NORMAL_MLY  \n",
       "9           0.25   PRECIP_15  \n",
       "10          1.00  PRECIP_HLY  "
      ]
     },
     "execution_count": 5,
     "metadata": {},
     "output_type": "execute_result"
    }
   ],
   "source": [
    "get_datasets_df()"
   ]
  },
  {
   "cell_type": "code",
   "execution_count": 39,
   "metadata": {},
   "outputs": [],
   "source": [
    "r = get_data(\"datasetid=PRECIP_15&stationid=COOP:010008&units=metric&startdate=2010-05-01&enddate=2010-05-31\")"
   ]
  },
  {
   "cell_type": "code",
   "execution_count": 40,
   "metadata": {},
   "outputs": [
    {
     "data": {
      "text/plain": [
       "'https://www.ncdc.noaa.gov/cdo-web/api/v2/data?datasetid=PRECIP_15&stationid=COOP:010008&units=metric&startdate=2010-05-01&enddate=2010-05-31'"
      ]
     },
     "execution_count": 40,
     "metadata": {},
     "output_type": "execute_result"
    }
   ],
   "source": [
    "r.url"
   ]
  },
  {
   "cell_type": "code",
   "execution_count": 41,
   "metadata": {},
   "outputs": [
    {
     "data": {
      "text/plain": [
       "'{\"metadata\":{\"resultset\":{\"offset\":1,\"count\":63,\"limit\":25}},\"results\":[{\"date\":\"2010-05-01T00:15:00\",\"datatype\":\"QGAG\",\"station\":\"COOP:010008\",\"attributes\":\"g,,HT\",\"value\":0.0},{\"date\":\"2010-05-01T00:15:00\",\"datatype\":\"QPCP\",\"station\":\"COOP:010008\",\"attributes\":\"g,,HT\",\"value\":0.0},{\"date\":\"2010-05-03T14:00:00\",\"datatype\":\"QGAG\",\"station\":\"COOP:010008\",\"attributes\":\",,HT\",\"value\":109.73},{\"date\":\"2010-05-03T14:15:00\",\"datatype\":\"QGAG\",\"station\":\"COOP:010008\",\"attributes\":\",,HT\",\"value\":110.74},{\"date\":\"2010-05-03T14:15:00\",\"datatype\":\"QPCP\",\"station\":\"COOP:010008\",\"attributes\":\",,HT\",\"value\":10.16},{\"date\":\"2010-05-03T14:30:00\",\"datatype\":\"QGAG\",\"station\":\"COOP:010008\",\"attributes\":\",,HT\",\"value\":111.51},{\"date\":\"2010-05-03T14:30:00\",\"datatype\":\"QPCP\",\"station\":\"COOP:010008\",\"attributes\":\",,HT\",\"value\":7.62},{\"date\":\"2010-05-03T14:45:00\",\"datatype\":\"QGAG\",\"station\":\"COOP:010008\",\"attributes\":\",,HT\",\"value\":112.01},{\"date\":\"2010-05-03T14:45:00\",\"datatype\":\"QPCP\",\"station\":\"COOP:010008\",\"attributes\":\",,HT\",\"value\":5.08},{\"date\":\"2010-05-03T15:00:00\",\"datatype\":\"QGAG\",\"station\":\"COOP:010008\",\"attributes\":\",,HT\",\"value\":112.27},{\"date\":\"2010-05-03T15:00:00\",\"datatype\":\"QPCP\",\"station\":\"COOP:010008\",\"attributes\":\",,HT\",\"value\":2.54},{\"date\":\"2010-05-03T15:15:00\",\"datatype\":\"QGAG\",\"station\":\"COOP:010008\",\"attributes\":\",,HT\",\"value\":113.03},{\"date\":\"2010-05-03T15:15:00\",\"datatype\":\"QPCP\",\"station\":\"COOP:010008\",\"attributes\":\",,HT\",\"value\":7.62},{\"date\":\"2010-05-03T15:30:00\",\"datatype\":\"QGAG\",\"station\":\"COOP:010008\",\"attributes\":\",,HT\",\"value\":113.54},{\"date\":\"2010-05-03T15:30:00\",\"datatype\":\"QPCP\",\"station\":\"COOP:010008\",\"attributes\":\",,HT\",\"value\":5.08},{\"date\":\"2010-05-03T16:00:00\",\"datatype\":\"QGAG\",\"station\":\"COOP:010008\",\"attributes\":\",,HT\",\"value\":113.79},{\"date\":\"2010-05-03T16:00:00\",\"datatype\":\"QPCP\",\"station\":\"COOP:010008\",\"attributes\":\",,HT\",\"value\":2.54},{\"date\":\"2010-05-03T17:00:00\",\"datatype\":\"QGAG\",\"station\":\"COOP:010008\",\"attributes\":\",,HT\",\"value\":114.05},{\"date\":\"2010-05-03T17:00:00\",\"datatype\":\"QPCP\",\"station\":\"COOP:010008\",\"attributes\":\",,HT\",\"value\":2.54},{\"date\":\"2010-05-03T17:15:00\",\"datatype\":\"QGAG\",\"station\":\"COOP:010008\",\"attributes\":\",,HT\",\"value\":114.3},{\"date\":\"2010-05-03T17:15:00\",\"datatype\":\"QPCP\",\"station\":\"COOP:010008\",\"attributes\":\",,HT\",\"value\":2.54},{\"date\":\"2010-05-03T17:30:00\",\"datatype\":\"QGAG\",\"station\":\"COOP:010008\",\"attributes\":\",,HT\",\"value\":114.55},{\"date\":\"2010-05-03T17:30:00\",\"datatype\":\"QPCP\",\"station\":\"COOP:010008\",\"attributes\":\",,HT\",\"value\":2.54},{\"date\":\"2010-05-03T17:45:00\",\"datatype\":\"QGAG\",\"station\":\"COOP:010008\",\"attributes\":\",,HT\",\"value\":114.81},{\"date\":\"2010-05-03T17:45:00\",\"datatype\":\"QPCP\",\"station\":\"COOP:010008\",\"attributes\":\",,HT\",\"value\":2.54}]}'"
      ]
     },
     "execution_count": 41,
     "metadata": {},
     "output_type": "execute_result"
    }
   ],
   "source": [
    "r.text"
   ]
  },
  {
   "cell_type": "code",
   "execution_count": null,
   "metadata": {},
   "outputs": [],
   "source": []
  }
 ],
 "metadata": {
  "colab": {
   "name": "ncdc.ipynb",
   "provenance": []
  },
  "file_extension": ".py",
  "kernelspec": {
   "display_name": "Python 3.8.1 64-bit ('env': venv)",
   "language": "python",
   "name": "python38164bitenvvenv66f76e88faa04dd3b19569ca85894aaf"
  },
  "language_info": {
   "codemirror_mode": {
    "name": "ipython",
    "version": 3
   },
   "file_extension": ".py",
   "mimetype": "text/x-python",
   "name": "python",
   "nbconvert_exporter": "python",
   "pygments_lexer": "ipython3",
   "version": "3.8.1"
  },
  "mimetype": "text/x-python",
  "name": "python",
  "npconvert_exporter": "python",
  "pygments_lexer": "ipython3",
  "version": 3
 },
 "nbformat": 4,
 "nbformat_minor": 1
}
